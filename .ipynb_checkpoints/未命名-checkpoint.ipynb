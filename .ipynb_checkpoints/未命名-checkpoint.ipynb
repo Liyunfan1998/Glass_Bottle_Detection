{
 "cells": [
  {
   "cell_type": "code",
   "execution_count": 84,
   "metadata": {
    "ExecuteTime": {
     "end_time": "2020-12-28T07:16:09.010262Z",
     "start_time": "2020-12-28T07:16:08.965043Z"
    },
    "run_control": {
     "frozen": false,
     "read_only": false
    }
   },
   "outputs": [
    {
     "data": {
      "text/plain": [
       "array([  1.        ,   0.        ,   0.        , 525.5       ,\n",
       "       317.75      , 858.83333333, 659.41666667, 605.70833333,\n",
       "       569.83333333, 775.5       , 405.25      , 653.625     ,\n",
       "       458.375     , 724.45833333, 522.95833333])"
      ]
     },
     "execution_count": 84,
     "metadata": {},
     "output_type": "execute_result"
    }
   ],
   "source": [
    "import json\n",
    "import pandas as pd\n",
    "import numpy as np\n",
    "import mpu.ml\n",
    "one_hot = mpu.ml.indices2one_hot([0, 1, 2], nb_classes=3)\n",
    "type_dict={'circle':one_hot[0],'oval':one_hot[1],'drip':one_hot[2]}\n",
    "def extract_shapes(filename,type):\n",
    "    with open(filename,'r') as f:\n",
    "        json_obj=json.load(f)\n",
    "    shapes=json_obj['shapes']\n",
    "    shapes_ary=[item['points'] for item in shapes]\n",
    "    return np.append(type_dict[type],np.array(shapes_ary).flatten()[:12]) #有一些json里多了一个direction的数据\n",
    "extract_shapes('./圆形截面的玻璃瓶label/Image_20191007024433999.json','circle')"
   ]
  },
  {
   "cell_type": "code",
   "execution_count": 85,
   "metadata": {
    "ExecuteTime": {
     "end_time": "2020-12-28T07:16:10.277377Z",
     "start_time": "2020-12-28T07:16:09.866575Z"
    }
   },
   "outputs": [],
   "source": [
    "import os\n",
    "import fnmatch\n",
    "# data={'circle':{},'oval':{},'drip':{}}\n",
    "data=dict()\n",
    "def extract_dir(dirname,type):\n",
    "    for root, dir, files in os.walk(dirname):\n",
    "            for file in fnmatch.filter(files, \"*.json\"):\n",
    "#                   data[type][file[:-5]]=extract_shapes(dirname+'/'+file,type)\n",
    "                  data[file[6:-5]]=extract_shapes(dirname+'/'+file,type)\n",
    "extract_dir(\"圆形截面的玻璃瓶label\",'circle')\n",
    "extract_dir(\"椭圆形截面的玻璃瓶label\",'oval')\n",
    "extract_dir(\"水滴形截面的玻璃瓶label\",'drip')\n",
    "\n",
    "dataframe = pd.DataFrame(data)"
   ]
  },
  {
   "cell_type": "code",
   "execution_count": 81,
   "metadata": {
    "ExecuteTime": {
     "end_time": "2020-12-28T07:12:11.572560Z",
     "start_time": "2020-12-28T07:12:11.541635Z"
    }
   },
   "outputs": [
    {
     "data": {
      "text/plain": [
       "['20191007033624327',\n",
       " '20191007033445647',\n",
       " '20191007032135581',\n",
       " '20191007033112985',\n",
       " '20191007033548639',\n",
       " '20191007031826292',\n",
       " '20191007032048931',\n",
       " '20191007033727253',\n",
       " '20191007032139615',\n",
       " '20191007033551672',\n",
       " '20191007032110132',\n",
       " '20191007032107065',\n",
       " '20191007032022621',\n",
       " '20191007033255879',\n",
       " '20191007033116080',\n",
       " '20191007031651253',\n",
       " '20191007032130504',\n",
       " '20191007031958390',\n",
       " '20191007032051963']"
      ]
     },
     "execution_count": 81,
     "metadata": {},
     "output_type": "execute_result"
    }
   ],
   "source": [
    "[k for k in data if len(data[k])>19]"
   ]
  },
  {
   "cell_type": "code",
   "execution_count": 49,
   "metadata": {
    "ExecuteTime": {
     "end_time": "2020-12-28T06:52:00.996403Z",
     "start_time": "2020-12-28T06:52:00.963089Z"
    }
   },
   "outputs": [
    {
     "data": {
      "text/plain": [
       "[[0, 1, 0, 0, 0], [0, 0, 0, 1, 0], [1, 0, 0, 0, 0]]"
      ]
     },
     "execution_count": 49,
     "metadata": {},
     "output_type": "execute_result"
    }
   ],
   "source": [
    "import mpu.ml\n",
    "one_hot = mpu.ml.indices2one_hot([1, 3, 0], nb_classes=5)\n",
    "one_hot"
   ]
  },
  {
   "cell_type": "code",
   "execution_count": null,
   "metadata": {},
   "outputs": [],
   "source": []
  }
 ],
 "metadata": {
  "kernelspec": {
   "display_name": "Python 3",
   "language": "python",
   "name": "python3"
  },
  "language_info": {
   "codemirror_mode": {
    "name": "ipython",
    "version": 3
   },
   "file_extension": ".py",
   "mimetype": "text/x-python",
   "name": "python",
   "nbconvert_exporter": "python",
   "pygments_lexer": "ipython3",
   "version": "3.7.3"
  },
  "latex_envs": {
   "bibliofile": "biblio.bib",
   "cite_by": "apalike",
   "current_citInitial": 1,
   "eqLabelWithNumbers": true,
   "eqNumInitial": 0
  },
  "varInspector": {
   "cols": {
    "lenName": 16,
    "lenType": 16,
    "lenVar": 40
   },
   "kernels_config": {
    "python": {
     "delete_cmd_postfix": "",
     "delete_cmd_prefix": "del ",
     "library": "var_list.py",
     "varRefreshCmd": "print(var_dic_list())"
    },
    "r": {
     "delete_cmd_postfix": ") ",
     "delete_cmd_prefix": "rm(",
     "library": "var_list.r",
     "varRefreshCmd": "cat(var_dic_list()) "
    }
   },
   "types_to_exclude": [
    "module",
    "function",
    "builtin_function_or_method",
    "instance",
    "_Feature"
   ],
   "window_display": false
  }
 },
 "nbformat": 4,
 "nbformat_minor": 2
}
